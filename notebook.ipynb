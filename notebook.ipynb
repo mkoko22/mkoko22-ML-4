{
  "nbformat": 4,
  "nbformat_minor": 0,
  "metadata": {
    "colab": {
      "provenance": [],
      "gpuType": "T4"
    },
    "kernelspec": {
      "name": "python3",
      "display_name": "Python 3"
    },
    "language_info": {
      "name": "python"
    },
    "accelerator": "GPU"
  },
  "cells": [
    {
      "cell_type": "code",
      "source": [
        "from google.colab import drive\n",
        "drive.mount('/content/drive')"
      ],
      "metadata": {
        "colab": {
          "base_uri": "https://localhost:8080/"
        },
        "id": "7iGhKu03arq5",
        "outputId": "126763f9-c35b-4c12-c66c-054e18256bf3"
      },
      "execution_count": 20,
      "outputs": [
        {
          "output_type": "stream",
          "name": "stdout",
          "text": [
            "Drive already mounted at /content/drive; to attempt to forcibly remount, call drive.mount(\"/content/drive\", force_remount=True).\n"
          ]
        }
      ]
    },
    {
      "cell_type": "code",
      "source": [
        "%cd /content/drive/MyDrive/ML/assignment4/"
      ],
      "metadata": {
        "colab": {
          "base_uri": "https://localhost:8080/"
        },
        "id": "R-wnf5r6ayOI",
        "outputId": "4db9895b-9b2c-434c-ea3e-5672c25a06f6"
      },
      "execution_count": 21,
      "outputs": [
        {
          "output_type": "stream",
          "name": "stdout",
          "text": [
            "/content/drive/MyDrive/ML/assignment4\n"
          ]
        }
      ]
    },
    {
      "cell_type": "code",
      "source": [
        "ls"
      ],
      "metadata": {
        "colab": {
          "base_uri": "https://localhost:8080/"
        },
        "id": "ZbdnAjdga2gx",
        "outputId": "57844014-c6a8-4bcf-a086-1d31c6d71497"
      },
      "execution_count": 22,
      "outputs": [
        {
          "output_type": "stream",
          "name": "stdout",
          "text": [
            "example_submission.csv  icml_face_data.csv  test.csv\n",
            "fer2013.tar.gz          kaggle.json         train.csv\n"
          ]
        }
      ]
    },
    {
      "cell_type": "code",
      "source": [
        "!pip install wandb"
      ],
      "metadata": {
        "colab": {
          "base_uri": "https://localhost:8080/"
        },
        "id": "YEytqNAccSWV",
        "outputId": "663fbb75-3f59-4536-ba0a-a80a7bb451bb"
      },
      "execution_count": 13,
      "outputs": [
        {
          "output_type": "stream",
          "name": "stdout",
          "text": [
            "Requirement already satisfied: wandb in /usr/local/lib/python3.11/dist-packages (0.19.11)\n",
            "Requirement already satisfied: click!=8.0.0,>=7.1 in /usr/local/lib/python3.11/dist-packages (from wandb) (8.2.1)\n",
            "Requirement already satisfied: docker-pycreds>=0.4.0 in /usr/local/lib/python3.11/dist-packages (from wandb) (0.4.0)\n",
            "Requirement already satisfied: gitpython!=3.1.29,>=1.0.0 in /usr/local/lib/python3.11/dist-packages (from wandb) (3.1.44)\n",
            "Requirement already satisfied: platformdirs in /usr/local/lib/python3.11/dist-packages (from wandb) (4.3.8)\n",
            "Requirement already satisfied: protobuf!=4.21.0,!=5.28.0,<7,>=3.19.0 in /usr/local/lib/python3.11/dist-packages (from wandb) (5.29.5)\n",
            "Requirement already satisfied: psutil>=5.0.0 in /usr/local/lib/python3.11/dist-packages (from wandb) (5.9.5)\n",
            "Requirement already satisfied: pydantic<3 in /usr/local/lib/python3.11/dist-packages (from wandb) (2.11.5)\n",
            "Requirement already satisfied: pyyaml in /usr/local/lib/python3.11/dist-packages (from wandb) (6.0.2)\n",
            "Requirement already satisfied: requests<3,>=2.0.0 in /usr/local/lib/python3.11/dist-packages (from wandb) (2.32.3)\n",
            "Requirement already satisfied: sentry-sdk>=2.0.0 in /usr/local/lib/python3.11/dist-packages (from wandb) (2.29.1)\n",
            "Requirement already satisfied: setproctitle in /usr/local/lib/python3.11/dist-packages (from wandb) (1.3.6)\n",
            "Requirement already satisfied: setuptools in /usr/local/lib/python3.11/dist-packages (from wandb) (75.2.0)\n",
            "Requirement already satisfied: typing-extensions<5,>=4.4 in /usr/local/lib/python3.11/dist-packages (from wandb) (4.13.2)\n",
            "Requirement already satisfied: six>=1.4.0 in /usr/local/lib/python3.11/dist-packages (from docker-pycreds>=0.4.0->wandb) (1.17.0)\n",
            "Requirement already satisfied: gitdb<5,>=4.0.1 in /usr/local/lib/python3.11/dist-packages (from gitpython!=3.1.29,>=1.0.0->wandb) (4.0.12)\n",
            "Requirement already satisfied: annotated-types>=0.6.0 in /usr/local/lib/python3.11/dist-packages (from pydantic<3->wandb) (0.7.0)\n",
            "Requirement already satisfied: pydantic-core==2.33.2 in /usr/local/lib/python3.11/dist-packages (from pydantic<3->wandb) (2.33.2)\n",
            "Requirement already satisfied: typing-inspection>=0.4.0 in /usr/local/lib/python3.11/dist-packages (from pydantic<3->wandb) (0.4.1)\n",
            "Requirement already satisfied: charset-normalizer<4,>=2 in /usr/local/lib/python3.11/dist-packages (from requests<3,>=2.0.0->wandb) (3.4.2)\n",
            "Requirement already satisfied: idna<4,>=2.5 in /usr/local/lib/python3.11/dist-packages (from requests<3,>=2.0.0->wandb) (3.10)\n",
            "Requirement already satisfied: urllib3<3,>=1.21.1 in /usr/local/lib/python3.11/dist-packages (from requests<3,>=2.0.0->wandb) (2.4.0)\n",
            "Requirement already satisfied: certifi>=2017.4.17 in /usr/local/lib/python3.11/dist-packages (from requests<3,>=2.0.0->wandb) (2025.4.26)\n",
            "Requirement already satisfied: smmap<6,>=3.0.1 in /usr/local/lib/python3.11/dist-packages (from gitdb<5,>=4.0.1->gitpython!=3.1.29,>=1.0.0->wandb) (5.0.2)\n"
          ]
        }
      ]
    },
    {
      "cell_type": "code",
      "source": [
        "import torch\n",
        "import torch.nn as nn\n",
        "import torch.optim as optim\n",
        "from torch.utils.data import DataLoader, Dataset\n",
        "import torchvision.transforms as transforms\n",
        "import pandas as pd\n",
        "import numpy as np\n",
        "import matplotlib.pyplot as plt\n",
        "import wandb\n",
        "from sklearn.model_selection import train_test_split\n",
        "import torch.nn.functional as F\n",
        "from PIL import Image\n"
      ],
      "metadata": {
        "id": "7NfcaN3fcaXM"
      },
      "execution_count": 29,
      "outputs": []
    },
    {
      "cell_type": "code",
      "source": [
        "!nvidia-smi"
      ],
      "metadata": {
        "colab": {
          "base_uri": "https://localhost:8080/"
        },
        "id": "t7BwUj4KcdVS",
        "outputId": "6bbe56ad-b790-4b38-b501-88c92796be53"
      },
      "execution_count": 15,
      "outputs": [
        {
          "output_type": "stream",
          "name": "stdout",
          "text": [
            "Thu Jun  5 23:34:16 2025       \n",
            "+-----------------------------------------------------------------------------------------+\n",
            "| NVIDIA-SMI 550.54.15              Driver Version: 550.54.15      CUDA Version: 12.4     |\n",
            "|-----------------------------------------+------------------------+----------------------+\n",
            "| GPU  Name                 Persistence-M | Bus-Id          Disp.A | Volatile Uncorr. ECC |\n",
            "| Fan  Temp   Perf          Pwr:Usage/Cap |           Memory-Usage | GPU-Util  Compute M. |\n",
            "|                                         |                        |               MIG M. |\n",
            "|=========================================+========================+======================|\n",
            "|   0  Tesla T4                       Off |   00000000:00:04.0 Off |                    0 |\n",
            "| N/A   41C    P8              9W /   70W |       0MiB /  15360MiB |      0%      Default |\n",
            "|                                         |                        |                  N/A |\n",
            "+-----------------------------------------+------------------------+----------------------+\n",
            "                                                                                         \n",
            "+-----------------------------------------------------------------------------------------+\n",
            "| Processes:                                                                              |\n",
            "|  GPU   GI   CI        PID   Type   Process name                              GPU Memory |\n",
            "|        ID   ID                                                               Usage      |\n",
            "|=========================================================================================|\n",
            "|  No running processes found                                                             |\n",
            "+-----------------------------------------------------------------------------------------+\n"
          ]
        }
      ]
    },
    {
      "cell_type": "code",
      "source": [
        "wandb.login()"
      ],
      "metadata": {
        "colab": {
          "base_uri": "https://localhost:8080/"
        },
        "id": "n0dOpf2kclFg",
        "outputId": "fc156370-9d92-4198-bf14-79ca9fdad197"
      },
      "execution_count": 23,
      "outputs": [
        {
          "output_type": "execute_result",
          "data": {
            "text/plain": [
              "True"
            ]
          },
          "metadata": {},
          "execution_count": 23
        }
      ]
    },
    {
      "cell_type": "code",
      "source": [
        "train_df = pd.read_csv('train.csv')\n",
        "test_df = pd.read_csv('test.csv')\n",
        "\n",
        "print(f\"Train shape: {train_df.shape}\")\n",
        "print(f\"Test shape: {test_df.shape}\")\n",
        "print(f\"Train columns: {train_df.columns.tolist()}\")\n",
        "print(f\"Test columns: {test_df.columns.tolist()}\")\n",
        "print(\"\\nFirst few rows of train:\")\n",
        "print(train_df.head())\n",
        "print(\"\\nFirst few rows of test:\")\n",
        "print(test_df.head())"
      ],
      "metadata": {
        "colab": {
          "base_uri": "https://localhost:8080/"
        },
        "id": "4TmhMfWYci1j",
        "outputId": "ec81dadf-068a-4a93-abea-07266c70a72b"
      },
      "execution_count": 24,
      "outputs": [
        {
          "output_type": "stream",
          "name": "stdout",
          "text": [
            "Train shape: (28709, 2)\n",
            "Test shape: (7178, 1)\n",
            "Train columns: ['emotion', 'pixels']\n",
            "Test columns: ['pixels']\n",
            "\n",
            "First few rows of train:\n",
            "   emotion                                             pixels\n",
            "0        0  70 80 82 72 58 58 60 63 54 58 60 48 89 115 121...\n",
            "1        0  151 150 147 155 148 133 111 140 170 174 182 15...\n",
            "2        2  231 212 156 164 174 138 161 173 182 200 106 38...\n",
            "3        4  24 32 36 30 32 23 19 20 30 41 21 22 32 34 21 1...\n",
            "4        6  4 0 0 0 0 0 0 0 0 0 0 0 3 15 23 28 48 50 58 84...\n",
            "\n",
            "First few rows of test:\n",
            "                                              pixels\n",
            "0  254 254 254 254 254 249 255 160 2 58 53 70 77 ...\n",
            "1  156 184 198 202 204 207 210 212 213 214 215 21...\n",
            "2  69 118 61 60 96 121 103 87 103 88 70 90 115 12...\n",
            "3  205 203 236 157 83 158 120 116 94 86 155 180 2...\n",
            "4  87 79 74 66 74 96 77 80 80 84 83 89 102 91 84 ...\n"
          ]
        }
      ]
    },
    {
      "cell_type": "code",
      "source": [
        "emotion_labels = {0: 'Angry', 1: 'Disgust', 2: 'Fear', 3: 'Happy',\n",
        "                 4: 'Sad', 5: 'Surprise', 6: 'Neutral'}\n",
        "\n",
        "print(f\"\\nEmotion distribution:\")\n",
        "emotion_counts = train_df['emotion'].value_counts().sort_index()\n",
        "for emotion, count in emotion_counts.items():\n",
        "    print(f\"{emotion_labels[emotion]}: {count}\")\n",
        "\n",
        "fig, axes = plt.subplots(2, 4, figsize=(12, 6))\n",
        "for i in range(8):\n",
        "    idx = np.random.randint(0, len(train_df))\n",
        "    pixels = train_df.iloc[idx]['pixels']\n",
        "    pixels = np.array([int(pixel) for pixel in pixels.split()])\n",
        "    image = pixels.reshape(48, 48)\n",
        "    emotion = train_df.iloc[idx]['emotion']\n",
        "\n",
        "    ax = axes[i//4, i%4]\n",
        "    ax.imshow(image, cmap='gray')\n",
        "    ax.set_title(f\"{emotion_labels[emotion]}\")\n",
        "    ax.axis('off')\n",
        "\n",
        "plt.tight_layout()\n",
        "plt.show()"
      ],
      "metadata": {
        "colab": {
          "base_uri": "https://localhost:8080/",
          "height": 771
        },
        "id": "xaWD32zydFFC",
        "outputId": "356a5e08-27d5-428f-d400-326972aa4ceb"
      },
      "execution_count": 25,
      "outputs": [
        {
          "output_type": "stream",
          "name": "stdout",
          "text": [
            "\n",
            "Emotion distribution:\n",
            "Angry: 3995\n",
            "Disgust: 436\n",
            "Fear: 4097\n",
            "Happy: 7215\n",
            "Sad: 4830\n",
            "Surprise: 3171\n",
            "Neutral: 4965\n"
          ]
        },
        {
          "output_type": "display_data",
          "data": {
            "text/plain": [
              "<Figure size 1200x600 with 8 Axes>"
            ],
            "image/png": "[encoded data removed]"
          },
          "metadata": {}
        }
      ]
    },
    {
      "cell_type": "code",
      "source": [
        "train_data, val_data = train_test_split(train_df, test_size=0.2,\n",
        "                                        stratify=train_df['emotion'],\n",
        "                                        random_state=42)\n",
        "print(f\"Train samples: {len(train_data)} | Validation samples: {len(val_data)}\")"
      ],
      "metadata": {
        "colab": {
          "base_uri": "https://localhost:8080/"
        },
        "id": "cUwLxN_cdLjV",
        "outputId": "930a50cd-773e-4f2d-bc18-2c953a6a7950"
      },
      "execution_count": 26,
      "outputs": [
        {
          "output_type": "stream",
          "name": "stdout",
          "text": [
            "Train samples: 22967 | Validation samples: 5742\n"
          ]
        }
      ]
    },
    {
      "cell_type": "markdown",
      "source": [
        "Baseline CNN"
      ],
      "metadata": {
        "id": "bKoiUUxTvtro"
      }
    },
    {
      "cell_type": "code",
      "source": [
        "transform = transforms.Compose([\n",
        "    transforms.Grayscale(),\n",
        "    transforms.ToTensor(),\n",
        "    transforms.Normalize((0.5,), (0.5,))\n",
        "])\n",
        "\n",
        "class FERDataset(Dataset):\n",
        "    def __init__(self, dataframe, transform=None):\n",
        "        self.data = dataframe\n",
        "        self.transform = transform\n",
        "\n",
        "    def __len__(self):\n",
        "        return len(self.data)\n",
        "\n",
        "    def __getitem__(self, idx):\n",
        "        pixels = np.array(\n",
        "            list(map(int, self.data.iloc[idx]['pixels'].split()))).reshape(48, 48).astype(np.uint8)\n",
        "        image = Image.fromarray(pixels)\n",
        "        if self.transform:\n",
        "            image = self.transform(image)\n",
        "        label = self.data.iloc[idx]['emotion']\n",
        "        return image, label\n",
        "\n",
        "train_dataset = FERDataset(train_data, transform=transform)\n",
        "val_dataset = FERDataset(val_data, transform=transform)\n",
        "\n",
        "train_loader = DataLoader(train_dataset, batch_size=64, shuffle=True)\n",
        "val_loader = DataLoader(val_dataset, batch_size=64, shuffle=False)\n",
        "\n",
        "\n",
        "class BaselineCNN(nn.Module):\n",
        "    def __init__(self, num_classes=7):\n",
        "        super().__init__()\n",
        "        self.conv1 = nn.Conv2d(1, 32, 3, padding=1)\n",
        "        self.conv2 = nn.Conv2d(32, 64, 3, padding=1)\n",
        "        self.pool = nn.MaxPool2d(2, 2)\n",
        "        self.dropout = nn.Dropout(0.25)\n",
        "        self.fc1 = nn.Linear(64 * 12 * 12, 128)\n",
        "        self.fc2 = nn.Linear(128, num_classes)\n",
        "\n",
        "    def forward(self, x):\n",
        "        x = self.pool(F.relu(self.conv1(x)))\n",
        "        x = self.pool(F.relu(self.conv2(x)))\n",
        "        x = x.view(-1, 64 * 12 * 12)\n",
        "        x = self.dropout(x)\n",
        "        x = F.relu(self.fc1(x))\n",
        "        x = self.dropout(x)\n",
        "        x = self.fc2(x)\n",
        "        return x\n",
        "\n",
        "def init_weights(m):\n",
        "    if isinstance(m, (nn.Conv2d, nn.Linear)):\n",
        "        nn.init.kaiming_normal_(m.weight, nonlinearity='relu')\n",
        "        if m.bias is not None:\n",
        "            nn.init.constant_(m.bias, 0)\n",
        "\n",
        "\n",
        "device = torch.device('cuda' if torch.cuda.is_available() else 'cpu')\n",
        "model = BaselineCNN().to(device)\n",
        "model.apply(init_weights)\n",
        "\n",
        "criterion = nn.CrossEntropyLoss()\n",
        "optimizer = optim.Adam(model.parameters(), lr=0.001)\n",
        "\n",
        "print(f\"Using device: {device}\")\n",
        "print(f\"Total parameters: {sum(p.numel() for p in model.parameters()):,}\")\n",
        "\n",
        "wandb.init(\n",
        "    project=\"fer-facial-expression\",\n",
        "    name=\"baseline-simple-cnn\",\n",
        "    config={\n",
        "        \"architecture\": \"Baseline CNN\",\n",
        "        \"conv_layers\": 2,\n",
        "        \"fc_layers\": 2,\n",
        "        \"learning_rate\": 0.001,\n",
        "        \"batch_size\": 64,\n",
        "        \"epochs\": 10,\n",
        "        \"optimizer\": \"Adam\"\n",
        "    }\n",
        ")\n",
        "\n",
        "def train_one_epoch(model, loader, optimizer, criterion, device):\n",
        "    model.train()\n",
        "    running_loss, correct = 0, 0\n",
        "    for images, labels in loader:\n",
        "        images, labels = images.to(device), labels.to(device)\n",
        "        optimizer.zero_grad()\n",
        "        outputs = model(images)\n",
        "        loss = criterion(outputs, labels)\n",
        "        loss.backward()\n",
        "        optimizer.step()\n",
        "\n",
        "        running_loss += loss.item() * images.size(0)\n",
        "        correct += (outputs.argmax(1) == labels).sum().item()\n",
        "\n",
        "    return running_loss / len(loader.dataset), 100 * correct / len(loader.dataset)\n",
        "\n",
        "def validate_one_epoch(model, loader, criterion, device):\n",
        "    model.eval()\n",
        "    running_loss, correct = 0, 0\n",
        "    with torch.no_grad():\n",
        "        for images, labels in loader:\n",
        "            images, labels = images.to(device), labels.to(device)\n",
        "            outputs = model(images)\n",
        "            loss = criterion(outputs, labels)\n",
        "\n",
        "            running_loss += loss.item() * images.size(0)\n",
        "            correct += (outputs.argmax(1) == labels).sum().item()\n",
        "\n",
        "    return running_loss / len(loader.dataset), 100 * correct / len(loader.dataset)\n",
        "\n",
        "num_epochs = 10\n"
      ],
      "metadata": {
        "colab": {
          "base_uri": "https://localhost:8080/",
          "height": 140
        },
        "id": "00tEfbEIdO9I",
        "outputId": "39d4f525-830d-4fbd-adff-86d9d1fe46c2"
      },
      "execution_count": 27,
      "outputs": [
        {
          "output_type": "stream",
          "name": "stdout",
          "text": [
            "Using device: cuda\n",
            "Total parameters: 1,199,495\n"
          ]
        },
        {
          "output_type": "display_data",
          "data": {
            "text/plain": [
              "<IPython.core.display.HTML object>"
            ],
            "text/html": [
              "Tracking run with wandb version 0.19.11"
            ]
          },
          "metadata": {}
        },
        {
          "output_type": "display_data",
          "data": {
            "text/plain": [
              "<IPython.core.display.HTML object>"
            ],
            "text/html": [
              "Run data is saved locally in <code>/content/drive/MyDrive/ML/assignment4/wandb/run-20250605_234009-953xnqw3</code>"
            ]
          },
          "metadata": {}
        },
        {
          "output_type": "display_data",
          "data": {
            "text/plain": [
              "<IPython.core.display.HTML object>"
            ],
            "text/html": [
              "Syncing run <strong><a href='https://wandb.ai/mkoko22-free-university-of-tbilisi-/fer-facial-expression/runs/953xnqw3' target=\"_blank\">baseline-simple-cnn</a></strong> to <a href='https://wandb.ai/mkoko22-free-university-of-tbilisi-/fer-facial-expression' target=\"_blank\">Weights & Biases</a> (<a href='https://wandb.me/developer-guide' target=\"_blank\">docs</a>)<br>"
            ]
          },
          "metadata": {}
        },
        {
          "output_type": "display_data",
          "data": {
            "text/plain": [
              "<IPython.core.display.HTML object>"
            ],
            "text/html": [
              " View project at <a href='https://wandb.ai/mkoko22-free-university-of-tbilisi-/fer-facial-expression' target=\"_blank\">https://wandb.ai/mkoko22-free-university-of-tbilisi-/fer-facial-expression</a>"
            ]
          },
          "metadata": {}
        },
        {
          "output_type": "display_data",
          "data": {
            "text/plain": [
              "<IPython.core.display.HTML object>"
            ],
            "text/html": [
              " View run at <a href='https://wandb.ai/mkoko22-free-university-of-tbilisi-/fer-facial-expression/runs/953xnqw3' target=\"_blank\">https://wandb.ai/mkoko22-free-university-of-tbilisi-/fer-facial-expression/runs/953xnqw3</a>"
            ]
          },
          "metadata": {}
        }
      ]
    },
    {
      "cell_type": "code",
      "source": [],
      "metadata": {
        "id": "U0KY8Aey1_3v"
      },
      "execution_count": null,
      "outputs": []
    },
    {
      "cell_type": "code",
      "source": [
        "for epoch in range(1, num_epochs + 1):\n",
        "    train_loss, train_acc = train_one_epoch(model, train_loader, optimizer, criterion, device)\n",
        "    val_loss, val_acc = validate_one_epoch(model, val_loader, criterion, device)\n",
        "\n",
        "    print(f\"Epoch {epoch}/{num_epochs} | Train Acc: {train_acc:.2f}% | Val Acc: {val_acc:.2f}%\")\n",
        "\n",
        "    wandb.log({\n",
        "        \"epoch\": epoch,\n",
        "        \"train_loss\": train_loss,\n",
        "        \"train_acc\": train_acc,\n",
        "        \"val_loss\": val_loss,\n",
        "        \"val_acc\": val_acc\n",
        "    })\n",
        "\n",
        "print(\"Training complete.\")\n",
        "wandb.finish()\n"
      ],
      "metadata": {
        "colab": {
          "base_uri": "https://localhost:8080/",
          "height": 687
        },
        "id": "NFGLwRT_d2Pi",
        "outputId": "9a267c74-35ef-4548-dc18-c85c79e39f28"
      },
      "execution_count": 30,
      "outputs": [
        {
          "output_type": "stream",
          "name": "stdout",
          "text": [
            "Epoch 1/10 | Train Acc: 29.66% | Val Acc: 39.72%\n",
            "Epoch 2/10 | Train Acc: 38.49% | Val Acc: 43.16%\n",
            "Epoch 3/10 | Train Acc: 42.16% | Val Acc: 45.68%\n",
            "Epoch 4/10 | Train Acc: 45.10% | Val Acc: 47.94%\n",
            "Epoch 5/10 | Train Acc: 47.83% | Val Acc: 49.01%\n",
            "Epoch 6/10 | Train Acc: 49.24% | Val Acc: 50.19%\n",
            "Epoch 7/10 | Train Acc: 50.59% | Val Acc: 50.59%\n",
            "Epoch 8/10 | Train Acc: 52.67% | Val Acc: 50.63%\n",
            "Epoch 9/10 | Train Acc: 53.98% | Val Acc: 50.51%\n",
            "Epoch 10/10 | Train Acc: 55.64% | Val Acc: 52.19%\n",
            "Training complete.\n"
          ]
        },
        {
          "output_type": "display_data",
          "data": {
            "text/plain": [
              "<IPython.core.display.HTML object>"
            ],
            "text/html": []
          },
          "metadata": {}
        },
        {
          "output_type": "display_data",
          "data": {
            "text/plain": [
              "<IPython.core.display.HTML object>"
            ],
            "text/html": [
              "<br>    <style><br>        .wandb-row {<br>            display: flex;<br>            flex-direction: row;<br>            flex-wrap: wrap;<br>            justify-content: flex-start;<br>            width: 100%;<br>        }<br>        .wandb-col {<br>            display: flex;<br>            flex-direction: column;<br>            flex-basis: 100%;<br>            flex: 1;<br>            padding: 10px;<br>        }<br>    </style><br><div class=\"wandb-row\"><div class=\"wandb-col\"><h3>Run history:</h3><br/><table class=\"wandb\"><tr><td>epoch</td><td>▁▂▃▃▄▅▆▆▇█</td></tr><tr><td>train_acc</td><td>▁▃▄▅▆▆▇▇██</td></tr><tr><td>train_loss</td><td>█▆▅▄▃▃▂▂▁▁</td></tr><tr><td>val_acc</td><td>▁▃▄▆▆▇▇▇▇█</td></tr><tr><td>val_loss</td><td>█▅▄▃▂▁▁▁▁▁</td></tr></table><br/></div><div class=\"wandb-col\"><h3>Run summary:</h3><br/><table class=\"wandb\"><tr><td>epoch</td><td>10</td></tr><tr><td>train_acc</td><td>55.63635</td></tr><tr><td>train_loss</td><td>1.14286</td></tr><tr><td>val_acc</td><td>52.19436</td></tr><tr><td>val_loss</td><td>1.30821</td></tr></table><br/></div></div>"
            ]
          },
          "metadata": {}
        },
        {
          "output_type": "display_data",
          "data": {
            "text/plain": [
              "<IPython.core.display.HTML object>"
            ],
            "text/html": [
              " View run <strong style=\"color:#cdcd00\">baseline-simple-cnn</strong> at: <a href='https://wandb.ai/mkoko22-free-university-of-tbilisi-/fer-facial-expression/runs/953xnqw3' target=\"_blank\">https://wandb.ai/mkoko22-free-university-of-tbilisi-/fer-facial-expression/runs/953xnqw3</a><br> View project at: <a href='https://wandb.ai/mkoko22-free-university-of-tbilisi-/fer-facial-expression' target=\"_blank\">https://wandb.ai/mkoko22-free-university-of-tbilisi-/fer-facial-expression</a><br>Synced 5 W&B file(s), 0 media file(s), 0 artifact file(s) and 0 other file(s)"
            ]
          },
          "metadata": {}
        },
        {
          "output_type": "display_data",
          "data": {
            "text/plain": [
              "<IPython.core.display.HTML object>"
            ],
            "text/html": [
              "Find logs at: <code>./wandb/run-20250605_234009-953xnqw3/logs</code>"
            ]
          },
          "metadata": {}
        }
      ]
    },
    {
      "cell_type": "markdown",
      "source": [
        "Adding Batch Normalization"
      ],
      "metadata": {
        "id": "2SbpHBgfv5Xr"
      }
    },
    {
      "cell_type": "code",
      "source": [
        "class BaselineCNN_BatchNorm(nn.Module):\n",
        "    def __init__(self, num_classes=7):\n",
        "        super(BaselineCNN_BatchNorm, self).__init__()\n",
        "        self.conv1 = nn.Conv2d(1, 32, kernel_size=3, padding=1)\n",
        "        self.bn1 = nn.BatchNorm2d(32)\n",
        "        self.conv2 = nn.Conv2d(32, 64, kernel_size=3, padding=1)\n",
        "        self.bn2 = nn.BatchNorm2d(64)\n",
        "        self.pool = nn.MaxPool2d(2, 2)\n",
        "        self.dropout = nn.Dropout(0.25)\n",
        "        self.fc1 = nn.Linear(64 * 12 * 12, 128)\n",
        "        self.fc2 = nn.Linear(128, num_classes)\n",
        "\n",
        "    def forward(self, x):\n",
        "        x = self.pool(F.relu(self.bn1(self.conv1(x))))\n",
        "        x = self.pool(F.relu(self.bn2(self.conv2(x))))\n",
        "        x = x.view(-1, 64 * 12 * 12)\n",
        "        x = self.dropout(x)\n",
        "        x = F.relu(self.fc1(x))\n",
        "        x = self.dropout(x)\n",
        "        x = self.fc2(x)\n",
        "        return x\n",
        "\n",
        "model = BaselineCNN_BatchNorm().to(device)\n",
        "model.apply(init_weights)\n",
        "\n",
        "optimizer = optim.Adam(model.parameters(), lr=0.001)\n",
        "\n",
        "wandb.init(\n",
        "    project=\"fer-facial-expression\",\n",
        "    name=\"batchnorm-cnn\",\n",
        "    config={\n",
        "        \"architecture\": \"Baseline CNN with BatchNorm\",\n",
        "        \"conv_layers\": 2,\n",
        "        \"fc_layers\": 2,\n",
        "        \"learning_rate\": 0.001,\n",
        "        \"batch_size\": 64,\n",
        "        \"epochs\": 25,\n",
        "        \"optimizer\": \"Adam\",\n",
        "        \"total_params\": sum(p.numel() for p in model.parameters())\n",
        "    }\n",
        ")\n",
        "\n",
        "num_epochs = 25\n",
        "for epoch in range(num_epochs):\n",
        "    train_loss, train_acc = train_one_epoch(model, train_loader, optimizer, criterion, device)\n",
        "    val_loss, val_acc = validate_one_epoch(model, val_loader, criterion, device)\n",
        "\n",
        "    print(f\"Epoch {epoch+1}/{num_epochs} - \"\n",
        "          f\"Train Loss: {train_loss:.4f}, Train Acc: {train_acc:.2f}%, \"\n",
        "          f\"Val Loss: {val_loss:.4f}, Val Acc: {val_acc:.2f}%\")\n",
        "\n",
        "    wandb.log({\n",
        "        \"epoch\": epoch + 1,\n",
        "        \"train_loss\": train_loss,\n",
        "        \"train_accuracy\": train_acc,\n",
        "        \"val_loss\": val_loss,\n",
        "        \"val_accuracy\": val_acc\n",
        "    })\n",
        "\n",
        "wandb.finish()\n"
      ],
      "metadata": {
        "colab": {
          "base_uri": "https://localhost:8080/",
          "height": 1000
        },
        "id": "V6pjuDLleLWa",
        "outputId": "b0bcf28a-01f7-4b9b-aa15-4c6766f95aa3"
      },
      "execution_count": 31,
      "outputs": [
        {
          "output_type": "display_data",
          "data": {
            "text/plain": [
              "<IPython.core.display.HTML object>"
            ],
            "text/html": [
              "Tracking run with wandb version 0.19.11"
            ]
          },
          "metadata": {}
        },
        {
          "output_type": "display_data",
          "data": {
            "text/plain": [
              "<IPython.core.display.HTML object>"
            ],
            "text/html": [
              "Run data is saved locally in <code>/content/drive/MyDrive/ML/assignment4/wandb/run-20250605_234623-bi525vda</code>"
            ]
          },
          "metadata": {}
        },
        {
          "output_type": "display_data",
          "data": {
            "text/plain": [
              "<IPython.core.display.HTML object>"
            ],
            "text/html": [
              "Syncing run <strong><a href='https://wandb.ai/mkoko22-free-university-of-tbilisi-/fer-facial-expression/runs/bi525vda' target=\"_blank\">batchnorm-cnn</a></strong> to <a href='https://wandb.ai/mkoko22-free-university-of-tbilisi-/fer-facial-expression' target=\"_blank\">Weights & Biases</a> (<a href='https://wandb.me/developer-guide' target=\"_blank\">docs</a>)<br>"
            ]
          },
          "metadata": {}
        },
        {
          "output_type": "display_data",
          "data": {
            "text/plain": [
              "<IPython.core.display.HTML object>"
            ],
            "text/html": [
              " View project at <a href='https://wandb.ai/mkoko22-free-university-of-tbilisi-/fer-facial-expression' target=\"_blank\">https://wandb.ai/mkoko22-free-university-of-tbilisi-/fer-facial-expression</a>"
            ]
          },
          "metadata": {}
        },
        {
          "output_type": "display_data",
          "data": {
            "text/plain": [
              "<IPython.core.display.HTML object>"
            ],
            "text/html": [
              " View run at <a href='https://wandb.ai/mkoko22-free-university-of-tbilisi-/fer-facial-expression/runs/bi525vda' target=\"_blank\">https://wandb.ai/mkoko22-free-university-of-tbilisi-/fer-facial-expression/runs/bi525vda</a>"
            ]
          },
          "metadata": {}
        },
        {
          "output_type": "stream",
          "name": "stdout",
          "text": [
            "Epoch 1/25 - Train Loss: 1.8382, Train Acc: 26.85%, Val Loss: 1.6754, Val Acc: 33.70%\n",
            "Epoch 2/25 - Train Loss: 1.6545, Train Acc: 33.13%, Val Loss: 1.5236, Val Acc: 42.06%\n",
            "Epoch 3/25 - Train Loss: 1.5779, Train Acc: 36.41%, Val Loss: 1.4829, Val Acc: 42.42%\n",
            "Epoch 4/25 - Train Loss: 1.5374, Train Acc: 37.79%, Val Loss: 1.4377, Val Acc: 45.00%\n",
            "Epoch 5/25 - Train Loss: 1.5191, Train Acc: 38.15%, Val Loss: 1.4384, Val Acc: 44.93%\n",
            "Epoch 6/25 - Train Loss: 1.5017, Train Acc: 39.59%, Val Loss: 1.4332, Val Acc: 45.92%\n",
            "Epoch 7/25 - Train Loss: 1.4754, Train Acc: 40.64%, Val Loss: 1.4081, Val Acc: 45.98%\n",
            "Epoch 8/25 - Train Loss: 1.4622, Train Acc: 41.43%, Val Loss: 1.3923, Val Acc: 46.62%\n",
            "Epoch 9/25 - Train Loss: 1.4400, Train Acc: 42.23%, Val Loss: 1.3879, Val Acc: 46.73%\n",
            "Epoch 10/25 - Train Loss: 1.4335, Train Acc: 42.35%, Val Loss: 1.3869, Val Acc: 46.93%\n",
            "Epoch 11/25 - Train Loss: 1.4134, Train Acc: 43.35%, Val Loss: 1.3685, Val Acc: 47.35%\n",
            "Epoch 12/25 - Train Loss: 1.3966, Train Acc: 44.38%, Val Loss: 1.3573, Val Acc: 47.54%\n",
            "Epoch 13/25 - Train Loss: 1.3867, Train Acc: 44.96%, Val Loss: 1.3598, Val Acc: 47.23%\n",
            "Epoch 14/25 - Train Loss: 1.3799, Train Acc: 45.12%, Val Loss: 1.3431, Val Acc: 48.36%\n",
            "Epoch 15/25 - Train Loss: 1.3617, Train Acc: 46.38%, Val Loss: 1.3554, Val Acc: 48.59%\n",
            "Epoch 16/25 - Train Loss: 1.3534, Train Acc: 46.48%, Val Loss: 1.3456, Val Acc: 49.01%\n",
            "Epoch 17/25 - Train Loss: 1.3305, Train Acc: 47.12%, Val Loss: 1.3381, Val Acc: 48.85%\n",
            "Epoch 18/25 - Train Loss: 1.3205, Train Acc: 47.37%, Val Loss: 1.3618, Val Acc: 47.44%\n",
            "Epoch 19/25 - Train Loss: 1.3278, Train Acc: 47.09%, Val Loss: 1.3258, Val Acc: 49.93%\n",
            "Epoch 20/25 - Train Loss: 1.3021, Train Acc: 47.97%, Val Loss: 1.3351, Val Acc: 49.53%\n",
            "Epoch 21/25 - Train Loss: 1.2902, Train Acc: 48.93%, Val Loss: 1.3354, Val Acc: 49.27%\n",
            "Epoch 22/25 - Train Loss: 1.2905, Train Acc: 48.64%, Val Loss: 1.3263, Val Acc: 50.73%\n",
            "Epoch 23/25 - Train Loss: 1.2778, Train Acc: 49.26%, Val Loss: 1.3228, Val Acc: 50.28%\n",
            "Epoch 24/25 - Train Loss: 1.2736, Train Acc: 49.55%, Val Loss: 1.3093, Val Acc: 50.44%\n",
            "Epoch 25/25 - Train Loss: 1.2524, Train Acc: 50.02%, Val Loss: 1.3587, Val Acc: 49.79%\n"
          ]
        },
        {
          "output_type": "display_data",
          "data": {
            "text/plain": [
              "<IPython.core.display.HTML object>"
            ],
            "text/html": []
          },
          "metadata": {}
        },
        {
          "output_type": "display_data",
          "data": {
            "text/plain": [
              "<IPython.core.display.HTML object>"
            ],
            "text/html": [
              "<br>    <style><br>        .wandb-row {<br>            display: flex;<br>            flex-direction: row;<br>            flex-wrap: wrap;<br>            justify-content: flex-start;<br>            width: 100%;<br>        }<br>        .wandb-col {<br>            display: flex;<br>            flex-direction: column;<br>            flex-basis: 100%;<br>            flex: 1;<br>            padding: 10px;<br>        }<br>    </style><br><div class=\"wandb-row\"><div class=\"wandb-col\"><h3>Run history:</h3><br/><table class=\"wandb\"><tr><td>epoch</td><td>▁▁▂▂▂▂▃▃▃▄▄▄▅▅▅▅▆▆▆▇▇▇▇██</td></tr><tr><td>train_accuracy</td><td>▁▃▄▄▄▅▅▅▆▆▆▆▆▇▇▇▇▇▇▇█████</td></tr><tr><td>train_loss</td><td>█▆▅▄▄▄▄▄▃▃▃▃▃▃▂▂▂▂▂▂▁▁▁▁▁</td></tr><tr><td>val_accuracy</td><td>▁▄▅▆▆▆▆▆▆▆▇▇▇▇▇▇▇▇██▇████</td></tr><tr><td>val_loss</td><td>█▅▄▃▃▃▃▃▃▂▂▂▂▂▂▂▂▂▁▁▁▁▁▁▂</td></tr></table><br/></div><div class=\"wandb-col\"><h3>Run summary:</h3><br/><table class=\"wandb\"><tr><td>epoch</td><td>25</td></tr><tr><td>train_accuracy</td><td>50.01524</td></tr><tr><td>train_loss</td><td>1.25238</td></tr><tr><td>val_accuracy</td><td>49.79101</td></tr><tr><td>val_loss</td><td>1.35873</td></tr></table><br/></div></div>"
            ]
          },
          "metadata": {}
        },
        {
          "output_type": "display_data",
          "data": {
            "text/plain": [
              "<IPython.core.display.HTML object>"
            ],
            "text/html": [
              " View run <strong style=\"color:#cdcd00\">batchnorm-cnn</strong> at: <a href='https://wandb.ai/mkoko22-free-university-of-tbilisi-/fer-facial-expression/runs/bi525vda' target=\"_blank\">https://wandb.ai/mkoko22-free-university-of-tbilisi-/fer-facial-expression/runs/bi525vda</a><br> View project at: <a href='https://wandb.ai/mkoko22-free-university-of-tbilisi-/fer-facial-expression' target=\"_blank\">https://wandb.ai/mkoko22-free-university-of-tbilisi-/fer-facial-expression</a><br>Synced 5 W&B file(s), 0 media file(s), 0 artifact file(s) and 0 other file(s)"
            ]
          },
          "metadata": {}
        },
        {
          "output_type": "display_data",
          "data": {
            "text/plain": [
              "<IPython.core.display.HTML object>"
            ],
            "text/html": [
              "Find logs at: <code>./wandb/run-20250605_234623-bi525vda/logs</code>"
            ]
          },
          "metadata": {}
        }
      ]
    },
    {
      "cell_type": "code",
      "source": [
        "train_transform = transforms.Compose([\n",
        "    transforms.RandomHorizontalFlip(),\n",
        "    transforms.RandomRotation(10),\n",
        "    transforms.RandomResizedCrop(48, scale=(0.9, 1.1)),\n",
        "    transforms.ToTensor(),\n",
        "    transforms.Normalize((0.5,), (0.5,))\n",
        "])\n",
        "\n",
        "val_transform = transforms.Compose([\n",
        "    transforms.Grayscale(),\n",
        "    transforms.ToTensor(),\n",
        "    transforms.Normalize((0.5,), (0.5,))\n",
        "])\n",
        "\n",
        "class FERDataset(Dataset):\n",
        "    def __init__(self, dataframe, transform=None):\n",
        "        self.data = dataframe\n",
        "        self.transform = transform\n",
        "\n",
        "    def __len__(self):\n",
        "        return len(self.data)\n",
        "\n",
        "    def __getitem__(self, idx):\n",
        "        pixels = np.array(list(map(int, self.data.iloc[idx]['pixels'].split()))).reshape(48, 48).astype(np.uint8)\n",
        "        image = Image.fromarray(pixels)\n",
        "        if self.transform:\n",
        "            image = self.transform(image)\n",
        "        label = int(self.data.iloc[idx]['emotion'])\n",
        "        return image, label\n",
        "\n",
        "train_dataset = FERDataset(train_data, transform=train_transform)\n",
        "val_dataset = FERDataset(val_data, transform=val_transform)\n",
        "\n",
        "train_loader = DataLoader(train_dataset, batch_size=64, shuffle=True)\n",
        "val_loader = DataLoader(val_dataset, batch_size=64, shuffle=False)\n",
        "\n",
        "\n",
        "class BaselineCNN_BatchNorm_Dropout(nn.Module):\n",
        "    def __init__(self, num_classes=7):\n",
        "        super(BaselineCNN_BatchNorm_Dropout, self).__init__()\n",
        "        self.conv1 = nn.Conv2d(1, 32, kernel_size=3, padding=1)\n",
        "        self.bn1 = nn.BatchNorm2d(32)\n",
        "        self.conv2 = nn.Conv2d(32, 64, kernel_size=3, padding=1)\n",
        "        self.bn2 = nn.BatchNorm2d(64)\n",
        "        self.pool = nn.MaxPool2d(2, 2)\n",
        "        self.dropout_conv = nn.Dropout2d(0.25)\n",
        "        self.fc1 = nn.Linear(64 * 12 * 12, 128)\n",
        "        self.bn3 = nn.BatchNorm1d(128)\n",
        "        self.dropout_fc = nn.Dropout(0.5)\n",
        "        self.fc2 = nn.Linear(128, num_classes)\n",
        "\n",
        "    def forward(self, x):\n",
        "        x = self.pool(F.relu(self.bn1(self.conv1(x))))\n",
        "        x = self.dropout_conv(x)\n",
        "        x = self.pool(F.relu(self.bn2(self.conv2(x))))\n",
        "        x = self.dropout_conv(x)\n",
        "        x = x.view(-1, 64 * 12 * 12)\n",
        "        x = self.dropout_fc(x)\n",
        "        x = F.relu(self.bn3(self.fc1(x)))\n",
        "        x = self.dropout_fc(x)\n",
        "        x = self.fc2(x)\n",
        "        return x\n",
        "\n",
        "\n",
        "def train_one_epoch(model, loader, optimizer, criterion, device):\n",
        "    model.train()\n",
        "    running_loss, correct = 0.0, 0\n",
        "    for images, labels in loader:\n",
        "        images, labels = images.to(device), labels.to(device)\n",
        "        optimizer.zero_grad()\n",
        "        outputs = model(images)\n",
        "        loss = criterion(outputs, labels)\n",
        "        loss.backward()\n",
        "        optimizer.step()\n",
        "        running_loss += loss.item() * images.size(0)\n",
        "        _, preds = torch.max(outputs, 1)\n",
        "        correct += (preds == labels).sum().item()\n",
        "    epoch_loss = running_loss / len(loader.dataset)\n",
        "    epoch_acc = 100. * correct / len(loader.dataset)\n",
        "    return epoch_loss, epoch_acc\n",
        "\n",
        "def validate_one_epoch(model, loader, criterion, device):\n",
        "    model.eval()\n",
        "    running_loss, correct = 0.0, 0\n",
        "    with torch.no_grad():\n",
        "        for images, labels in loader:\n",
        "            images, labels = images.to(device), labels.to(device)\n",
        "            outputs = model(images)\n",
        "            loss = criterion(outputs, labels)\n",
        "            running_loss += loss.item() * images.size(0)\n",
        "            _, preds = torch.max(outputs, 1)\n",
        "            correct += (preds == labels).sum().item()\n",
        "    epoch_loss = running_loss / len(loader.dataset)\n",
        "    epoch_acc = 100. * correct / len(loader.dataset)\n",
        "    return epoch_loss, epoch_acc\n",
        "\n",
        "model = BaselineCNN_BatchNorm_Dropout().to(device)\n",
        "criterion = nn.CrossEntropyLoss()\n",
        "optimizer = optim.Adam(model.parameters(), lr=0.001)\n",
        "\n",
        "\n",
        "wandb.init(\n",
        "    project=\"fer-facial-expression\",\n",
        "    name=\"best-so-far-batchnorm-dropout-cnn\",\n",
        "    config={\n",
        "        \"architecture\": \"BaselineCNN_BatchNorm_Dropout\",\n",
        "        \"learning_rate\": 0.001,\n",
        "        \"batch_size\": 64,\n",
        "        \"epochs\": 25,\n",
        "        \"optimizer\": \"Adam\",\n",
        "        \"total_params\": sum(p.numel() for p in model.parameters())\n",
        "    }\n",
        ")\n",
        "\n",
        "num_epochs = 25\n",
        "for epoch in range(1, num_epochs + 1):\n",
        "    train_loss, train_acc = train_one_epoch(model, train_loader, optimizer, criterion, device)\n",
        "    val_loss, val_acc = validate_one_epoch(model, val_loader, criterion, device)\n",
        "    print(f\"Epoch {epoch}/{num_epochs} | Train Loss: {train_loss:.4f}, Train Acc: {train_acc:.2f}%, Val Loss: {val_loss:.4f}, Val Acc: {val_acc:.2f}%\")\n",
        "    wandb.log({\n",
        "        \"epoch\": epoch,\n",
        "        \"train_loss\": train_loss,\n",
        "        \"train_accuracy\": train_acc,\n",
        "        \"val_loss\": val_loss,\n",
        "        \"val_accuracy\": val_acc\n",
        "    })\n",
        "\n",
        "wandb.finish()\n",
        "print(\"Training Complete\")\n"
      ],
      "metadata": {
        "id": "ghZhz6MWfTmV"
      },
      "execution_count": null,
      "outputs": []
    },
    {
      "cell_type": "markdown",
      "source": [
        "Experiment 2"
      ],
      "metadata": {
        "id": "Y14oTu5f9HhH"
      }
    },
    {
      "cell_type": "code",
      "source": [
        "class BetterCNN(nn.Module):\n",
        "    def __init__(self, num_classes=7):\n",
        "        super(BetterCNN, self).__init__()\n",
        "        self.conv1 = nn.Conv2d(1, 32, 3, padding=1)\n",
        "        self.bn1 = nn.BatchNorm2d(32)\n",
        "        self.conv2 = nn.Conv2d(32, 64, 3, padding=1)\n",
        "        self.bn2 = nn.BatchNorm2d(64)\n",
        "        self.conv3 = nn.Conv2d(64, 128, 3, padding=1)\n",
        "        self.bn3 = nn.BatchNorm2d(128)\n",
        "\n",
        "        self.pool = nn.MaxPool2d(2, 2)\n",
        "        self.dropout_fc = nn.Dropout(0.3)\n",
        "        self.fc1 = nn.Linear(128 * 6 * 6, 256)\n",
        "        self.bn_fc = nn.BatchNorm1d(256)\n",
        "        self.fc2 = nn.Linear(256, num_classes)\n",
        "\n",
        "    def forward(self, x):\n",
        "        x = self.pool(F.relu(self.bn1(self.conv1(x))))\n",
        "        x = self.pool(F.relu(self.bn2(self.conv2(x))))\n",
        "        x = self.pool(F.relu(self.bn3(self.conv3(x))))\n",
        "        x = x.view(-1, 128 * 6 * 6)\n",
        "        x = F.relu(self.bn_fc(self.fc1(x)))\n",
        "        x = self.dropout_fc(x)\n",
        "        x = self.fc2(x)\n",
        "        return x\n",
        "\n",
        "device = torch.device('cuda' if torch.cuda.is_available() else 'cpu')\n",
        "print(f\"Using device: {device}\")\n",
        "\n",
        "model = BetterCNN().to(device)\n",
        "criterion = nn.CrossEntropyLoss()\n",
        "optimizer = optim.Adam(model.parameters(), lr=0.001)\n",
        "scheduler = torch.optim.lr_scheduler.StepLR(optimizer, step_size=5, gamma=0.5)\n",
        "\n",
        "wandb.init(\n",
        "    project=\"fer-facial-expression\",\n",
        "    name=\"better-cnn-with-aug-bn-scheduler\",\n",
        "    config={\n",
        "        \"architecture\": \"BetterCNN\",\n",
        "        \"conv_layers\": 3,\n",
        "        \"fc_layers\": 2,\n",
        "        \"learning_rate\": 0.001,\n",
        "        \"batch_size\": 64,\n",
        "        \"epochs\": 20,\n",
        "        \"optimizer\": \"Adam\",\n",
        "        \"scheduler\": \"StepLR\",\n",
        "        \"dropout_fc\": 0.3,\n",
        "        \"data_aug\": True,\n",
        "        \"total_params\": sum(p.numel() for p in model.parameters())\n",
        "    }\n",
        ")\n",
        "\n",
        "def train_one_epoch(model, loader, optimizer, criterion, device):\n",
        "    model.train()\n",
        "    running_loss, correct, total = 0.0, 0, 0\n",
        "    for images, labels in loader:\n",
        "        images, labels = images.to(device), labels.to(device)\n",
        "        optimizer.zero_grad()\n",
        "        outputs = model(images)\n",
        "        loss = criterion(outputs, labels)\n",
        "        loss.backward()\n",
        "        optimizer.step()\n",
        "        running_loss += loss.item() * images.size(0)\n",
        "        _, predicted = torch.max(outputs, 1)\n",
        "        correct += (predicted == labels).sum().item()\n",
        "        total += labels.size(0)\n",
        "    return running_loss / total, 100. * correct / total\n",
        "\n",
        "def validate_one_epoch(model, loader, criterion, device):\n",
        "    model.eval()\n",
        "    running_loss, correct, total = 0.0, 0, 0\n",
        "    with torch.no_grad():\n",
        "        for images, labels in loader:\n",
        "            images, labels = images.to(device), labels.to(device)\n",
        "            outputs = model(images)\n",
        "            loss = criterion(outputs, labels)\n",
        "            running_loss += loss.item() * images.size(0)\n",
        "            _, predicted = torch.max(outputs, 1)\n",
        "            correct += (predicted == labels).sum().item()\n",
        "            total += labels.size(0)\n",
        "    return running_loss / total, 100. * correct / total\n",
        "\n",
        "num_epochs = 20\n",
        "for epoch in range(num_epochs):\n",
        "    train_loss, train_acc = train_one_epoch(model, train_loader, optimizer, criterion, device)\n",
        "    val_loss, val_acc = validate_one_epoch(model, val_loader, criterion, device)\n",
        "    scheduler.step()\n",
        "\n",
        "    print(f\"Epoch {epoch+1}/{num_epochs} | Train Loss: {train_loss:.4f} | Train Acc: {train_acc:.2f}% | Val Loss: {val_loss:.4f} | Val Acc: {val_acc:.2f}%\")\n",
        "\n",
        "    wandb.log({\n",
        "        \"epoch\": epoch + 1,\n",
        "        \"train_loss\": train_loss,\n",
        "        \"train_accuracy\": train_acc,\n",
        "        \"val_loss\": val_loss,\n",
        "        \"val_accuracy\": val_acc,\n",
        "        \"lr\": scheduler.get_last_lr()[0]\n",
        "    })\n",
        "\n",
        "print(\"Training complete.\")"
      ],
      "metadata": {
        "colab": {
          "base_uri": "https://localhost:8080/",
          "height": 497
        },
        "id": "A8ImpQfp2BAp",
        "outputId": "aa527cab-b936-43df-8032-95634fa6c6d7"
      },
      "execution_count": 46,
      "outputs": [
        {
          "output_type": "stream",
          "name": "stdout",
          "text": [
            "Using device: cuda\n"
          ]
        },
        {
          "output_type": "display_data",
          "data": {
            "text/plain": [
              "<IPython.core.display.HTML object>"
            ],
            "text/html": [
              "Tracking run with wandb version 0.19.11"
            ]
          },
          "metadata": {}
        },
        {
          "output_type": "display_data",
          "data": {
            "text/plain": [
              "<IPython.core.display.HTML object>"
            ],
            "text/html": [
              "Run data is saved locally in <code>/content/drive/MyDrive/ML/assignment4/wandb/run-20250606_015458-4yyz4eck</code>"
            ]
          },
          "metadata": {}
        },
        {
          "output_type": "display_data",
          "data": {
            "text/plain": [
              "<IPython.core.display.HTML object>"
            ],
            "text/html": [
              "Syncing run <strong><a href='https://wandb.ai/mkoko22-free-university-of-tbilisi-/fer-facial-expression/runs/4yyz4eck' target=\"_blank\">better-cnn-with-aug-bn-scheduler</a></strong> to <a href='https://wandb.ai/mkoko22-free-university-of-tbilisi-/fer-facial-expression' target=\"_blank\">Weights & Biases</a> (<a href='https://wandb.me/developer-guide' target=\"_blank\">docs</a>)<br>"
            ]
          },
          "metadata": {}
        },
        {
          "output_type": "display_data",
          "data": {
            "text/plain": [
              "<IPython.core.display.HTML object>"
            ],
            "text/html": [
              " View project at <a href='https://wandb.ai/mkoko22-free-university-of-tbilisi-/fer-facial-expression' target=\"_blank\">https://wandb.ai/mkoko22-free-university-of-tbilisi-/fer-facial-expression</a>"
            ]
          },
          "metadata": {}
        },
        {
          "output_type": "display_data",
          "data": {
            "text/plain": [
              "<IPython.core.display.HTML object>"
            ],
            "text/html": [
              " View run at <a href='https://wandb.ai/mkoko22-free-university-of-tbilisi-/fer-facial-expression/runs/4yyz4eck' target=\"_blank\">https://wandb.ai/mkoko22-free-university-of-tbilisi-/fer-facial-expression/runs/4yyz4eck</a>"
            ]
          },
          "metadata": {}
        },
        {
          "output_type": "stream",
          "name": "stdout",
          "text": [
            "Epoch 1/20 | Train Loss: 1.6285 | Train Acc: 35.87% | Val Loss: 1.5429 | Val Acc: 40.82%\n",
            "Epoch 2/20 | Train Loss: 1.4101 | Train Acc: 45.84% | Val Loss: 1.2763 | Val Acc: 50.85%\n",
            "Epoch 3/20 | Train Loss: 1.3326 | Train Acc: 48.99% | Val Loss: 1.1951 | Val Acc: 54.23%\n",
            "Epoch 4/20 | Train Loss: 1.2831 | Train Acc: 51.16% | Val Loss: 1.1588 | Val Acc: 56.01%\n",
            "Epoch 5/20 | Train Loss: 1.2514 | Train Acc: 52.46% | Val Loss: 1.1204 | Val Acc: 57.05%\n",
            "Epoch 6/20 | Train Loss: 1.1896 | Train Acc: 54.88% | Val Loss: 1.0634 | Val Acc: 59.65%\n",
            "Epoch 7/20 | Train Loss: 1.1688 | Train Acc: 55.79% | Val Loss: 1.0649 | Val Acc: 59.98%\n",
            "Epoch 8/20 | Train Loss: 1.1493 | Train Acc: 56.71% | Val Loss: 1.0617 | Val Acc: 59.80%\n",
            "Epoch 9/20 | Train Loss: 1.1375 | Train Acc: 57.33% | Val Loss: 1.0442 | Val Acc: 60.45%\n",
            "Epoch 10/20 | Train Loss: 1.1228 | Train Acc: 57.46% | Val Loss: 1.0360 | Val Acc: 61.06%\n",
            "Epoch 11/20 | Train Loss: 1.0969 | Train Acc: 58.58% | Val Loss: 1.0253 | Val Acc: 61.11%\n",
            "Epoch 12/20 | Train Loss: 1.0842 | Train Acc: 58.97% | Val Loss: 1.0106 | Val Acc: 61.81%\n",
            "Epoch 13/20 | Train Loss: 1.0710 | Train Acc: 59.78% | Val Loss: 1.0074 | Val Acc: 61.96%\n",
            "Epoch 14/20 | Train Loss: 1.0631 | Train Acc: 59.96% | Val Loss: 1.0114 | Val Acc: 62.07%\n",
            "Epoch 15/20 | Train Loss: 1.0533 | Train Acc: 60.47% | Val Loss: 1.0054 | Val Acc: 62.24%\n",
            "Epoch 16/20 | Train Loss: 1.0378 | Train Acc: 60.69% | Val Loss: 0.9941 | Val Acc: 62.50%\n",
            "Epoch 17/20 | Train Loss: 1.0243 | Train Acc: 61.26% | Val Loss: 0.9935 | Val Acc: 62.66%\n",
            "Epoch 18/20 | Train Loss: 1.0182 | Train Acc: 61.96% | Val Loss: 0.9917 | Val Acc: 62.63%\n",
            "Epoch 19/20 | Train Loss: 1.0172 | Train Acc: 61.99% | Val Loss: 0.9898 | Val Acc: 62.94%\n",
            "Epoch 20/20 | Train Loss: 1.0098 | Train Acc: 62.02% | Val Loss: 0.9918 | Val Acc: 63.06%\n",
            "Training complete.\n"
          ]
        }
      ]
    },
    {
      "cell_type": "code",
      "source": [
        "class TestFERDataset(Dataset):\n",
        "    def __init__(self, dataframe, transform=None):\n",
        "        self.dataframe = dataframe\n",
        "        self.transform = transform\n",
        "\n",
        "    def __len__(self):\n",
        "        return len(self.dataframe)\n",
        "\n",
        "    def __getitem__(self, idx):\n",
        "        image = np.fromstring(self.dataframe.iloc[idx]['pixels'], sep=' ', dtype=np.uint8).reshape(48, 48)\n",
        "        image = Image.fromarray(image)\n",
        "\n",
        "        if self.transform:\n",
        "            image = self.transform(image)\n",
        "\n",
        "        return image\n",
        "\n",
        "test_df = pd.read_csv('test.csv')\n",
        "\n",
        "test_dataset = TestFERDataset(test_df, transform=test_transform)\n",
        "test_loader = DataLoader(test_dataset, batch_size=64, shuffle=False)\n",
        "\n",
        "model.eval()\n",
        "all_preds = []\n",
        "\n",
        "with torch.no_grad():\n",
        "    for images in test_loader:\n",
        "        images = images.to(device)\n",
        "        outputs = model(images)\n",
        "        _, predicted = torch.max(outputs, 1)\n",
        "        all_preds.extend(predicted.cpu().numpy())\n",
        "\n",
        "submission = pd.DataFrame({'emotion': all_preds})\n",
        "submission.to_csv('submission.csv', index=False)\n",
        "\n",
        "print(\"Test predictions complete and saved to submission.csv\")\n"
      ],
      "metadata": {
        "colab": {
          "base_uri": "https://localhost:8080/"
        },
        "id": "o9gQrrNg7hFD",
        "outputId": "dd37b2d4-60b1-4968-c983-5ed8ab6d600b"
      },
      "execution_count": 44,
      "outputs": [
        {
          "output_type": "stream",
          "name": "stdout",
          "text": [
            "Test predictions complete and saved to submission.csv\n"
          ]
        }
      ]
    }
  ]
}